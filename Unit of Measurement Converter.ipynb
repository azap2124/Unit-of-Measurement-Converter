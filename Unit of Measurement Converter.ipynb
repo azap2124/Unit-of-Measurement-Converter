{
 "cells": [
  {
   "cell_type": "code",
   "execution_count": null,
   "id": "a86a6669",
   "metadata": {},
   "outputs": [],
   "source": [
    "convert_from = input(\"Enter Starting Unit of Measurement (inches, feet, yards):\").strip()\n",
    "\n",
    "if convert_from.lower() in ['inches','in','inch']:\n",
    "    convert_to = input(\"Enter Unit of Measurement to Convert to (inches, feet, yards):\").strip()\n",
    "    if convert_from.strip() and convert_to.lower() in ['feet','foot','ft']:\n",
    "        number_inches = int(input(\"Enter Inches:\"))\n",
    "        print(\"Result: \" + str(number_inches) + \" Inches = \" + str(round(number_inches/12,2)) + \" Feet\")\n",
    "    elif convert_to.lower() in ['yards','yard','yd','yds']:\n",
    "        number_inches = int(input(\"Enter Inches:\"))\n",
    "        print(\"Result: \" + str(number_inches) + \" Inches = \" + str(round(number_inches/36,2)) + \" Yards\")\n",
    "    else: \n",
    "        print('Please enter either inches, feet, or yards.')\n",
    "elif convert_from.lower() in ['feet','foot','ft']:\n",
    "    convert_to = input(\"Enter Unit of Measurement to Convert to (inches, feet, yards):\").strip()\n",
    "    if convert_to.lower() in ['inches','in','inch']:\n",
    "        number_feet = int(input(\"Enter Feet:\"))\n",
    "        print(\"Result: \" + str(number_feet) + \" Feet = \" + str(round(number_feet * 12,2)) + \" Inches\")\n",
    "    elif convert_to.lower() in ['yards','yard','yd','yds']:\n",
    "        number_feet = int(input(\"Enter Feet:\"))\n",
    "        print(\"Result: \" + str(number_feet) + \" Feet = \" + str(round(number_feet/3,2)) + \" Yards\")\n",
    "    else: \n",
    "        print('Please enter either inches, feet, or yards.')\n",
    "elif convert_from.lower() in ['yards','yard','yd','yds']:\n",
    "    convert_to = input(\"Enter Unit of Measurement to Convert to (inches, feet, yards):\").strip()\n",
    "    if convert_to.lower() in ['inches','in','inch']:\n",
    "        number_yards = int(input(\"Enter Yards:\"))\n",
    "        print(\"Result: \" + str(number_yards) + \" Yards = \" + str(round(number_yards * 36,2)) + \" Inches\")\n",
    "    elif convert_to.lower() in ['feet','foot','ft']:\n",
    "        number_yards = int(input(\"Enter Yards:\"))\n",
    "        print(\"Result: \" + str(number_yards) + \" Yards = \" + str(round(number_yards * 3,2)) + \" Feet\")\n",
    "    else: \n",
    "        print('Please enter either inches, feet, or yards.')\n",
    "else: \n",
    "    print('Please enter either inches, feet, or yards.')"
   ]
  }
 ],
 "metadata": {
  "kernelspec": {
   "display_name": "Python 3 (ipykernel)",
   "language": "python",
   "name": "python3"
  },
  "language_info": {
   "codemirror_mode": {
    "name": "ipython",
    "version": 3
   },
   "file_extension": ".py",
   "mimetype": "text/x-python",
   "name": "python",
   "nbconvert_exporter": "python",
   "pygments_lexer": "ipython3",
   "version": "3.11.4"
  }
 },
 "nbformat": 4,
 "nbformat_minor": 5
}
